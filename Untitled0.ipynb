{
  "nbformat": 4,
  "nbformat_minor": 0,
  "metadata": {
    "colab": {
      "name": "Untitled0.ipynb",
      "provenance": [],
      "collapsed_sections": [],
      "authorship_tag": "ABX9TyOFo7O6NCP2njXgT8sRZXGK",
      "include_colab_link": true
    },
    "kernelspec": {
      "name": "python3",
      "display_name": "Python 3"
    },
    "language_info": {
      "name": "python"
    }
  },
  "cells": [
    {
      "cell_type": "markdown",
      "metadata": {
        "id": "view-in-github",
        "colab_type": "text"
      },
      "source": [
        "<a href=\"https://colab.research.google.com/github/Nayim-Imrit/LSTMvsGRU/blob/main/Untitled0.ipynb\" target=\"_parent\"><img src=\"https://colab.research.google.com/assets/colab-badge.svg\" alt=\"Open In Colab\"/></a>"
      ]
    },
    {
      "cell_type": "code",
      "execution_count": null,
      "metadata": {
        "id": "-dda9cd8Yc-J"
      },
      "outputs": [],
      "source": [
        "word2index={\"I\":0, \"Like\":1, \"cats\":2}"
      ]
    },
    {
      "cell_type": "code",
      "source": [
        "# One Hot Encode with scikit-learn\n",
        "from numpy import array\n",
        "from numpy import argmax\n",
        "from sklearn.preprocessing import LabelEncoder\n",
        "from sklearn.preprocessing import OneHotEncoder\n",
        "# define example\n",
        "data = ['cold', 'cold', 'warm', 'cold', 'hot', 'hot', 'warm', 'cold', 'warm', 'hot']\n",
        "values = array(data)\n",
        "print('My Data Array: ', values)\n",
        "# integer encode\n",
        "label_encoder = LabelEncoder()\n",
        "integer_encoded = label_encoder.fit_transform(values)\n",
        "print('Transform to Integer: ',integer_encoded)\n",
        "# binary encode\n",
        "onehot_encoder = OneHotEncoder(sparse=False)\n",
        "integer_encoded = integer_encoded.reshape(len(integer_encoded), 1)\n",
        "onehot_encoded = onehot_encoder.fit_transform(integer_encoded)\n",
        "print('Transform to Vectors: ',onehot_encoded)\n",
        "# invert first example\n",
        "inverted = label_encoder.inverse_transform([argmax(onehot_encoded[0, :])]) # change index accordingly; 0=cold, 2=warm, 4=hot...\n",
        "print('Inverted: ',inverted)"
      ],
      "metadata": {
        "colab": {
          "base_uri": "https://localhost:8080/"
        },
        "id": "87hjPYQrYwMY",
        "outputId": "16ba867f-fa0a-4362-a83e-f7b83b845386"
      },
      "execution_count": null,
      "outputs": [
        {
          "output_type": "stream",
          "name": "stdout",
          "text": [
            "my Data:  ['cold' 'cold' 'warm' 'cold' 'hot' 'hot' 'warm' 'cold' 'warm' 'hot']\n",
            "Transform to Integer:  [0 0 2 0 1 1 2 0 2 1]\n",
            "Transform to Vectors:  [[1. 0. 0.]\n",
            " [1. 0. 0.]\n",
            " [0. 0. 1.]\n",
            " [1. 0. 0.]\n",
            " [0. 1. 0.]\n",
            " [0. 1. 0.]\n",
            " [0. 0. 1.]\n",
            " [1. 0. 0.]\n",
            " [0. 0. 1.]\n",
            " [0. 1. 0.]]\n",
            "Inverted:  ['cold']\n"
          ]
        }
      ]
    },
    {
      "cell_type": "code",
      "source": [
        ""
      ],
      "metadata": {
        "id": "1h9_PQnVcaaO"
      },
      "execution_count": null,
      "outputs": []
    },
    {
      "cell_type": "code",
      "source": [
        "# One Hot Encode with Keras\n",
        "from numpy import array\n",
        "from numpy import argmax\n",
        "from tensorflow.keras.utils import to_categorical\n",
        "# define example\n",
        "data = [1, 3, 2, 0, 3, 2, 2, 1, 0, 1]\n",
        "data = array(data)\n",
        "print(data)\n",
        "# one hot encode\n",
        "encoded = to_categorical(data)\n",
        "print(encoded)\n",
        "# invert encoding\n",
        "inverted = argmax(encoded[0])\n",
        "print(inverted)"
      ],
      "metadata": {
        "colab": {
          "base_uri": "https://localhost:8080/"
        },
        "id": "z2f5R9xPZ3Fa",
        "outputId": "b57c5689-e286-4149-bfbd-2e3e0ea3bb51"
      },
      "execution_count": null,
      "outputs": [
        {
          "output_type": "stream",
          "name": "stdout",
          "text": [
            "[1 3 2 0 3 2 2 1 0 1]\n",
            "[[0. 1. 0. 0.]\n",
            " [0. 0. 0. 1.]\n",
            " [0. 0. 1. 0.]\n",
            " [1. 0. 0. 0.]\n",
            " [0. 0. 0. 1.]\n",
            " [0. 0. 1. 0.]\n",
            " [0. 0. 1. 0.]\n",
            " [0. 1. 0. 0.]\n",
            " [1. 0. 0. 0.]\n",
            " [0. 1. 0. 0.]]\n",
            "1\n"
          ]
        }
      ]
    },
    {
      "cell_type": "code",
      "source": [
        ""
      ],
      "metadata": {
        "id": "1OdvglbFsaas"
      },
      "execution_count": null,
      "outputs": []
    },
    {
      "cell_type": "code",
      "source": [
        "# def __init__(self, input_shape, gru_size=10, tdd_size=4):\n",
        "#     self.model = Sequential()\n",
        "#     self.model.add(GRU(gru_size, return_sequences=True,\n",
        "#                        input_shape=input_shape))\n",
        "#     if tdd_size is not None:\n",
        "#         self.model.add(TimeDistributedDense(tdd_size))\n",
        "#     self.model.add(Flatten())\n",
        "#     self.model.add(Dense(1))\n",
        "#     self.model.add(Activation('sigmoid'))\n",
        "#     print('Compiling model...')\n",
        "#     self.model.compile(optimizer='adam', loss='binary_crossentropy')"
      ],
      "metadata": {
        "id": "H7ErGfqxccDJ"
      },
      "execution_count": null,
      "outputs": []
    },
    {
      "cell_type": "code",
      "source": [
        "# def build(self):\n",
        "#     self.input = T.tensor4()\n",
        " \n",
        "#     if self.inner_rnn == 'gru':\n",
        "#         self.enc = GRU(\n",
        "#             input_length=self.n_steps,\n",
        "#             input_dim=self._input_shape[0]*2*self.N_enc**2 + self.output_dim,\n",
        "#             output_dim=self.output_dim, init=self.init,\n",
        "#             inner_init=self.inner_init)\n",
        "#         self.dec = GRU(\n",
        "#             input_length=self.n_steps,\n",
        "#             input_dim=self.code_dim, output_dim=self.output_dim,\n",
        "#             init=self.init,\n",
        "#             inner_init=self.inner_init)\n",
        " \n",
        "#     elif self.inner_rnn == 'lstm':\n",
        "#         self.enc = LSTM(\n",
        "#             input_length=self.n_steps,\n",
        "#             input_dim=self._input_shape[0]*2*self.N_enc**2 + self.output_dim,\n",
        "#             output_dim=self.output_dim, init=self.init, inner_init=self.inner_init)\n",
        "#         self.dec = LSTM(\n",
        "#             input_length=self.n_steps,\n",
        "#             input_dim=self.code_dim, output_dim=self.output_dim,\n",
        "#             init=self.init, inner_init=self.inner_init)\n",
        "#     else:\n",
        "#         raise ValueError('This type of inner_rnn is not supported')\n",
        " \n",
        "#     self.enc.build()\n",
        "#     self.dec.build()\n",
        " \n",
        "#     self.init_canvas = shared_zeros(self._input_shape)  # canvas and hidden state\n",
        "#     self.init_h_enc = shared_zeros((self.output_dim))  # initial values\n",
        "#     self.init_h_dec = shared_zeros((self.output_dim))  # should be trained\n",
        "#     self.L_enc = self.enc.init((self.output_dim, 5))  # \"read\" attention parameters (eq. 21)\n",
        "#     self.L_dec = self.enc.init((self.output_dim, 5))  # \"write\" attention parameters (eq. 28)\n",
        "#     self.b_enc = shared_zeros((5))  # \"read\" attention parameters (eq. 21)\n",
        "#     self.b_dec = shared_zeros((5))  # \"write\" attention parameters (eq. 28)\n",
        "#     self.W_patch = self.enc.init((self.output_dim, self.N_dec**2*self._input_shape[0]))\n",
        "#     self.b_patch = shared_zeros((self.N_dec**2*self._input_shape[0]))\n",
        "#     self.W_mean = self.enc.init((self.output_dim, self.code_dim))\n",
        "#     self.W_sigma = self.enc.init((self.output_dim, self.code_dim))\n",
        "#     self.b_mean = shared_zeros((self.code_dim))\n",
        "#     self.b_sigma = shared_zeros((self.code_dim))\n",
        "#     self.trainable_weights = self.enc.trainable_weights + self.dec.trainable_weights + [\n",
        "#         self.L_enc, self.L_dec, self.b_enc, self.b_dec, self.W_patch,\n",
        "#         self.b_patch, self.W_mean, self.W_sigma, self.b_mean, self.b_sigma,\n",
        "#         self.init_canvas, self.init_h_enc, self.init_h_dec]\n",
        " \n",
        "#     if self.inner_rnn == 'lstm':\n",
        "#         self.init_cell_enc = shared_zeros((self.output_dim))     # initial values\n",
        "#         self.init_cell_dec = shared_zeros((self.output_dim))     # should be trained\n",
        "#         self.trainable_weights = self.trainable_weights + [self.init_cell_dec, self.init_cell_enc]\n"
      ],
      "metadata": {
        "id": "mtT-JIGQnb5g"
      },
      "execution_count": null,
      "outputs": []
    },
    {
      "cell_type": "markdown",
      "source": [
        "GRU Keras \n",
        "https://www.kaggle.com/thebrownviking20/intro-to-recurrent-neural-networks-lstm-gru/notebook"
      ],
      "metadata": {
        "id": "b5eHPhz5pABN"
      }
    },
    {
      "cell_type": "code",
      "source": [
        ""
      ],
      "metadata": {
        "id": "fOLu9QKPzdMC"
      },
      "execution_count": null,
      "outputs": []
    },
    {
      "cell_type": "code",
      "source": [
        "# Importing the libraries\n",
        "import numpy as np\n",
        "import matplotlib.pyplot as plt\n",
        "plt.style.use('fivethirtyeight')\n",
        "import pandas as pd\n",
        "from sklearn.preprocessing import MinMaxScaler\n",
        "from keras.models import Sequential\n",
        "from keras.layers import Dense, LSTM, Dropout, GRU, Bidirectional\n",
        "from tensorflow.keras.optimizers import SGD\n",
        "import math\n",
        "from sklearn.metrics import mean_squared_error"
      ],
      "metadata": {
        "id": "qjF7w9RKpC0R"
      },
      "execution_count": null,
      "outputs": []
    },
    {
      "cell_type": "code",
      "source": [
        "# Some functions to help out with\n",
        "def plot_predictions(test,predicted):\n",
        "    plt.plot(test, color='red',label='Real IBM Stock Price')\n",
        "    plt.plot(predicted, color='blue',label='Predicted IBM Stock Price')\n",
        "    plt.title('IBM Stock Price Prediction')\n",
        "    plt.xlabel('Time')\n",
        "    plt.ylabel('IBM Stock Price')\n",
        "    plt.legend()\n",
        "    plt.show()\n",
        "\n",
        "def return_rmse(test,predicted):\n",
        "    rmse = math.sqrt(mean_squared_error(test, predicted))\n",
        "    print(\"The root mean squared error is {}.\".format(rmse))"
      ],
      "metadata": {
        "id": "MLQv1To8pVg2"
      },
      "execution_count": null,
      "outputs": []
    },
    {
      "cell_type": "code",
      "source": [
        "# First, we get the data\n",
        "dataset = pd.read_csv('/content/input/AABA_2006-01-01_to_2018-01-01.csv', index_col='Date', parse_dates=['Date'])\n",
        "dataset.head()"
      ],
      "metadata": {
        "colab": {
          "base_uri": "https://localhost:8080/",
          "height": 237
        },
        "id": "prQolRHHpXhE",
        "outputId": "91a95d54-c19b-4f5e-9c89-645932100beb"
      },
      "execution_count": null,
      "outputs": [
        {
          "output_type": "execute_result",
          "data": {
            "text/html": [
              "\n",
              "  <div id=\"df-70cdd58a-45e1-4eb6-bcf7-598884a9ddba\">\n",
              "    <div class=\"colab-df-container\">\n",
              "      <div>\n",
              "<style scoped>\n",
              "    .dataframe tbody tr th:only-of-type {\n",
              "        vertical-align: middle;\n",
              "    }\n",
              "\n",
              "    .dataframe tbody tr th {\n",
              "        vertical-align: top;\n",
              "    }\n",
              "\n",
              "    .dataframe thead th {\n",
              "        text-align: right;\n",
              "    }\n",
              "</style>\n",
              "<table border=\"1\" class=\"dataframe\">\n",
              "  <thead>\n",
              "    <tr style=\"text-align: right;\">\n",
              "      <th></th>\n",
              "      <th>Open</th>\n",
              "      <th>High</th>\n",
              "      <th>Low</th>\n",
              "      <th>Close</th>\n",
              "      <th>Volume</th>\n",
              "      <th>Name</th>\n",
              "    </tr>\n",
              "    <tr>\n",
              "      <th>Date</th>\n",
              "      <th></th>\n",
              "      <th></th>\n",
              "      <th></th>\n",
              "      <th></th>\n",
              "      <th></th>\n",
              "      <th></th>\n",
              "    </tr>\n",
              "  </thead>\n",
              "  <tbody>\n",
              "    <tr>\n",
              "      <th>2006-01-03</th>\n",
              "      <td>39.69</td>\n",
              "      <td>41.22</td>\n",
              "      <td>38.79</td>\n",
              "      <td>40.91</td>\n",
              "      <td>24232729</td>\n",
              "      <td>AABA</td>\n",
              "    </tr>\n",
              "    <tr>\n",
              "      <th>2006-01-04</th>\n",
              "      <td>41.22</td>\n",
              "      <td>41.90</td>\n",
              "      <td>40.77</td>\n",
              "      <td>40.97</td>\n",
              "      <td>20553479</td>\n",
              "      <td>AABA</td>\n",
              "    </tr>\n",
              "    <tr>\n",
              "      <th>2006-01-05</th>\n",
              "      <td>40.93</td>\n",
              "      <td>41.73</td>\n",
              "      <td>40.85</td>\n",
              "      <td>41.53</td>\n",
              "      <td>12829610</td>\n",
              "      <td>AABA</td>\n",
              "    </tr>\n",
              "    <tr>\n",
              "      <th>2006-01-06</th>\n",
              "      <td>42.88</td>\n",
              "      <td>43.57</td>\n",
              "      <td>42.80</td>\n",
              "      <td>43.21</td>\n",
              "      <td>29422828</td>\n",
              "      <td>AABA</td>\n",
              "    </tr>\n",
              "    <tr>\n",
              "      <th>2006-01-09</th>\n",
              "      <td>43.10</td>\n",
              "      <td>43.66</td>\n",
              "      <td>42.82</td>\n",
              "      <td>43.42</td>\n",
              "      <td>16268338</td>\n",
              "      <td>AABA</td>\n",
              "    </tr>\n",
              "  </tbody>\n",
              "</table>\n",
              "</div>\n",
              "      <button class=\"colab-df-convert\" onclick=\"convertToInteractive('df-70cdd58a-45e1-4eb6-bcf7-598884a9ddba')\"\n",
              "              title=\"Convert this dataframe to an interactive table.\"\n",
              "              style=\"display:none;\">\n",
              "        \n",
              "  <svg xmlns=\"http://www.w3.org/2000/svg\" height=\"24px\"viewBox=\"0 0 24 24\"\n",
              "       width=\"24px\">\n",
              "    <path d=\"M0 0h24v24H0V0z\" fill=\"none\"/>\n",
              "    <path d=\"M18.56 5.44l.94 2.06.94-2.06 2.06-.94-2.06-.94-.94-2.06-.94 2.06-2.06.94zm-11 1L8.5 8.5l.94-2.06 2.06-.94-2.06-.94L8.5 2.5l-.94 2.06-2.06.94zm10 10l.94 2.06.94-2.06 2.06-.94-2.06-.94-.94-2.06-.94 2.06-2.06.94z\"/><path d=\"M17.41 7.96l-1.37-1.37c-.4-.4-.92-.59-1.43-.59-.52 0-1.04.2-1.43.59L10.3 9.45l-7.72 7.72c-.78.78-.78 2.05 0 2.83L4 21.41c.39.39.9.59 1.41.59.51 0 1.02-.2 1.41-.59l7.78-7.78 2.81-2.81c.8-.78.8-2.07 0-2.86zM5.41 20L4 18.59l7.72-7.72 1.47 1.35L5.41 20z\"/>\n",
              "  </svg>\n",
              "      </button>\n",
              "      \n",
              "  <style>\n",
              "    .colab-df-container {\n",
              "      display:flex;\n",
              "      flex-wrap:wrap;\n",
              "      gap: 12px;\n",
              "    }\n",
              "\n",
              "    .colab-df-convert {\n",
              "      background-color: #E8F0FE;\n",
              "      border: none;\n",
              "      border-radius: 50%;\n",
              "      cursor: pointer;\n",
              "      display: none;\n",
              "      fill: #1967D2;\n",
              "      height: 32px;\n",
              "      padding: 0 0 0 0;\n",
              "      width: 32px;\n",
              "    }\n",
              "\n",
              "    .colab-df-convert:hover {\n",
              "      background-color: #E2EBFA;\n",
              "      box-shadow: 0px 1px 2px rgba(60, 64, 67, 0.3), 0px 1px 3px 1px rgba(60, 64, 67, 0.15);\n",
              "      fill: #174EA6;\n",
              "    }\n",
              "\n",
              "    [theme=dark] .colab-df-convert {\n",
              "      background-color: #3B4455;\n",
              "      fill: #D2E3FC;\n",
              "    }\n",
              "\n",
              "    [theme=dark] .colab-df-convert:hover {\n",
              "      background-color: #434B5C;\n",
              "      box-shadow: 0px 1px 3px 1px rgba(0, 0, 0, 0.15);\n",
              "      filter: drop-shadow(0px 1px 2px rgba(0, 0, 0, 0.3));\n",
              "      fill: #FFFFFF;\n",
              "    }\n",
              "  </style>\n",
              "\n",
              "      <script>\n",
              "        const buttonEl =\n",
              "          document.querySelector('#df-70cdd58a-45e1-4eb6-bcf7-598884a9ddba button.colab-df-convert');\n",
              "        buttonEl.style.display =\n",
              "          google.colab.kernel.accessAllowed ? 'block' : 'none';\n",
              "\n",
              "        async function convertToInteractive(key) {\n",
              "          const element = document.querySelector('#df-70cdd58a-45e1-4eb6-bcf7-598884a9ddba');\n",
              "          const dataTable =\n",
              "            await google.colab.kernel.invokeFunction('convertToInteractive',\n",
              "                                                     [key], {});\n",
              "          if (!dataTable) return;\n",
              "\n",
              "          const docLinkHtml = 'Like what you see? Visit the ' +\n",
              "            '<a target=\"_blank\" href=https://colab.research.google.com/notebooks/data_table.ipynb>data table notebook</a>'\n",
              "            + ' to learn more about interactive tables.';\n",
              "          element.innerHTML = '';\n",
              "          dataTable['output_type'] = 'display_data';\n",
              "          await google.colab.output.renderOutput(dataTable, element);\n",
              "          const docLink = document.createElement('div');\n",
              "          docLink.innerHTML = docLinkHtml;\n",
              "          element.appendChild(docLink);\n",
              "        }\n",
              "      </script>\n",
              "    </div>\n",
              "  </div>\n",
              "  "
            ],
            "text/plain": [
              "             Open   High    Low  Close    Volume  Name\n",
              "Date                                                  \n",
              "2006-01-03  39.69  41.22  38.79  40.91  24232729  AABA\n",
              "2006-01-04  41.22  41.90  40.77  40.97  20553479  AABA\n",
              "2006-01-05  40.93  41.73  40.85  41.53  12829610  AABA\n",
              "2006-01-06  42.88  43.57  42.80  43.21  29422828  AABA\n",
              "2006-01-09  43.10  43.66  42.82  43.42  16268338  AABA"
            ]
          },
          "metadata": {},
          "execution_count": 6
        }
      ]
    },
    {
      "cell_type": "code",
      "source": [
        "# Checking for missing values\n",
        "training_set = dataset[:'2016'].iloc[:,1:2].values\n",
        "test_set = dataset['2017':].iloc[:,1:2].values"
      ],
      "metadata": {
        "id": "vtGClRyeptmr"
      },
      "execution_count": null,
      "outputs": []
    },
    {
      "cell_type": "code",
      "source": [
        "# We have chosen 'High' attribute for prices. Let's see what it looks like\n",
        "dataset[\"High\"][:'2016'].plot(figsize=(16,4),legend=True)\n",
        "dataset[\"High\"]['2017':].plot(figsize=(16,4),legend=True)\n",
        "plt.legend(['Training set (Before 2017)','Test set (2017 and beyond)'])\n",
        "plt.title('IBM stock price')\n",
        "plt.show()"
      ],
      "metadata": {
        "colab": {
          "base_uri": "https://localhost:8080/",
          "height": 303
        },
        "id": "NS86Alq_pzdE",
        "outputId": "6f2a791e-7ea5-434c-de15-e57c892e82ee"
      },
      "execution_count": null,
      "outputs": [
        {
          "output_type": "display_data",
          "data": {
            "image/png": "[encoded data removed]",
            "text/plain": [
              "<Figure size 1152x288 with 1 Axes>"
            ]
          },
          "metadata": {}
        }
      ]
    },
    {
      "cell_type": "code",
      "source": [
        "# Scaling the training set\n",
        "sc = MinMaxScaler(feature_range=(0,1))\n",
        "training_set_scaled = sc.fit_transform(training_set)"
      ],
      "metadata": {
        "id": "Q1VtsA1Kp1W7"
      },
      "execution_count": null,
      "outputs": []
    },
    {
      "cell_type": "code",
      "source": [
        "# Since LSTMs store long term memory state, we create a data structure with 60 timesteps and 1 output\n",
        "# So for each element of training set, we have 60 previous training set elements \n",
        "X_train = []\n",
        "y_train = []\n",
        "for i in range(60,2768):\n",
        "    X_train.append(training_set_scaled[i-60:i,0])\n",
        "    y_train.append(training_set_scaled[i,0])\n",
        "X_train, y_train = np.array(X_train), np.array(y_train)"
      ],
      "metadata": {
        "id": "VtguZWlGp8OW"
      },
      "execution_count": null,
      "outputs": []
    },
    {
      "cell_type": "code",
      "source": [
        "# Reshaping X_train for efficient modelling\n",
        "X_train = np.reshape(X_train, (X_train.shape[0],X_train.shape[1],1))"
      ],
      "metadata": {
        "id": "_Hwo3L4uqVuz"
      },
      "execution_count": null,
      "outputs": []
    },
    {
      "cell_type": "code",
      "source": [
        "# The LSTM architecture\n",
        "regressor = Sequential()\n",
        "# First LSTM layer with Dropout regularisation\n",
        "regressor.add(LSTM(units=50, return_sequences=True, input_shape=(X_train.shape[1],1)))\n",
        "regressor.add(Dropout(0.2))\n",
        "# Second LSTM layer\n",
        "regressor.add(LSTM(units=50, return_sequences=True))\n",
        "regressor.add(Dropout(0.2))\n",
        "# Third LSTM layer\n",
        "regressor.add(LSTM(units=50, return_sequences=True))\n",
        "regressor.add(Dropout(0.2))\n",
        "# Fourth LSTM layer\n",
        "regressor.add(LSTM(units=50))\n",
        "regressor.add(Dropout(0.2))\n",
        "# The output layer\n",
        "regressor.add(Dense(units=1))\n",
        "\n",
        "# Compiling the RNN\n",
        "regressor.compile(optimizer='rmsprop',loss='mean_squared_error')\n",
        "# Fitting to the training set\n",
        "regressor.fit(X_train,y_train,epochs=50,batch_size=32)"
      ],
      "metadata": {
        "colab": {
          "base_uri": "https://localhost:8080/"
        },
        "id": "b3dExoeTqbXg",
        "outputId": "bae06187-df5e-4b78-e0e0-16dba09eb197"
      },
      "execution_count": null,
      "outputs": [
        {
          "output_type": "stream",
          "name": "stdout",
          "text": [
            "Epoch 1/50\n",
            "85/85 [==============================] - 17s 113ms/step - loss: 0.0167\n",
            "Epoch 2/50\n",
            "85/85 [==============================] - 10s 113ms/step - loss: 0.0078\n",
            "Epoch 3/50\n",
            "85/85 [==============================] - 10s 114ms/step - loss: 0.0058\n",
            "Epoch 4/50\n",
            "85/85 [==============================] - 10s 115ms/step - loss: 0.0046\n",
            "Epoch 5/50\n",
            "85/85 [==============================] - 10s 116ms/step - loss: 0.0044\n",
            "Epoch 6/50\n",
            "85/85 [==============================] - 10s 114ms/step - loss: 0.0037\n",
            "Epoch 7/50\n",
            "85/85 [==============================] - 10s 112ms/step - loss: 0.0034\n",
            "Epoch 8/50\n",
            "85/85 [==============================] - 10s 112ms/step - loss: 0.0031\n",
            "Epoch 9/50\n",
            "85/85 [==============================] - 10s 112ms/step - loss: 0.0029\n",
            "Epoch 10/50\n",
            "85/85 [==============================] - 10s 115ms/step - loss: 0.0027\n",
            "Epoch 11/50\n",
            "85/85 [==============================] - 10s 115ms/step - loss: 0.0026\n",
            "Epoch 12/50\n",
            "85/85 [==============================] - 10s 113ms/step - loss: 0.0025\n",
            "Epoch 13/50\n",
            "85/85 [==============================] - 10s 113ms/step - loss: 0.0022\n",
            "Epoch 14/50\n",
            "85/85 [==============================] - 10s 113ms/step - loss: 0.0022\n",
            "Epoch 15/50\n",
            "85/85 [==============================] - 10s 113ms/step - loss: 0.0023\n",
            "Epoch 16/50\n",
            "85/85 [==============================] - 10s 113ms/step - loss: 0.0020\n",
            "Epoch 17/50\n",
            "85/85 [==============================] - 10s 116ms/step - loss: 0.0020\n",
            "Epoch 18/50\n",
            "85/85 [==============================] - 10s 112ms/step - loss: 0.0019\n",
            "Epoch 19/50\n",
            "85/85 [==============================] - 10s 113ms/step - loss: 0.0018\n",
            "Epoch 20/50\n",
            "85/85 [==============================] - 10s 113ms/step - loss: 0.0017\n",
            "Epoch 21/50\n",
            "85/85 [==============================] - 9s 112ms/step - loss: 0.0017\n",
            "Epoch 22/50\n",
            "85/85 [==============================] - 10s 112ms/step - loss: 0.0017\n",
            "Epoch 23/50\n",
            "85/85 [==============================] - 10s 112ms/step - loss: 0.0016\n",
            "Epoch 24/50\n",
            "85/85 [==============================] - 10s 112ms/step - loss: 0.0017\n",
            "Epoch 25/50\n",
            "85/85 [==============================] - 10s 115ms/step - loss: 0.0016\n",
            "Epoch 26/50\n",
            "85/85 [==============================] - 10s 115ms/step - loss: 0.0016\n",
            "Epoch 27/50\n",
            "85/85 [==============================] - 10s 113ms/step - loss: 0.0016\n",
            "Epoch 28/50\n",
            "85/85 [==============================] - 10s 114ms/step - loss: 0.0014\n",
            "Epoch 29/50\n",
            "85/85 [==============================] - 9s 112ms/step - loss: 0.0016\n",
            "Epoch 30/50\n",
            "85/85 [==============================] - 10s 113ms/step - loss: 0.0014\n",
            "Epoch 31/50\n",
            "85/85 [==============================] - 10s 112ms/step - loss: 0.0015\n",
            "Epoch 32/50\n",
            "85/85 [==============================] - 10s 114ms/step - loss: 0.0014\n",
            "Epoch 33/50\n",
            "85/85 [==============================] - 10s 113ms/step - loss: 0.0013\n",
            "Epoch 34/50\n",
            "85/85 [==============================] - 10s 114ms/step - loss: 0.0013\n",
            "Epoch 35/50\n",
            "85/85 [==============================] - 10s 112ms/step - loss: 0.0013\n",
            "Epoch 36/50\n",
            "85/85 [==============================] - 10s 112ms/step - loss: 0.0013\n",
            "Epoch 37/50\n",
            "85/85 [==============================] - 10s 115ms/step - loss: 0.0013\n",
            "Epoch 38/50\n",
            "85/85 [==============================] - 10s 115ms/step - loss: 0.0014\n",
            "Epoch 39/50\n",
            "85/85 [==============================] - 10s 112ms/step - loss: 0.0012\n",
            "Epoch 40/50\n",
            "85/85 [==============================] - 10s 116ms/step - loss: 0.0013\n",
            "Epoch 41/50\n",
            "85/85 [==============================] - 10s 113ms/step - loss: 0.0012\n",
            "Epoch 42/50\n",
            "85/85 [==============================] - 10s 117ms/step - loss: 0.0012\n",
            "Epoch 43/50\n",
            "85/85 [==============================] - 10s 115ms/step - loss: 0.0012\n",
            "Epoch 44/50\n",
            "85/85 [==============================] - 10s 115ms/step - loss: 0.0012\n",
            "Epoch 45/50\n",
            "85/85 [==============================] - 10s 113ms/step - loss: 0.0012\n",
            "Epoch 46/50\n",
            "85/85 [==============================] - 10s 115ms/step - loss: 0.0011\n",
            "Epoch 47/50\n",
            "85/85 [==============================] - 10s 114ms/step - loss: 0.0012\n",
            "Epoch 48/50\n",
            "85/85 [==============================] - 10s 114ms/step - loss: 0.0011\n",
            "Epoch 49/50\n",
            "85/85 [==============================] - 10s 112ms/step - loss: 0.0011\n",
            "Epoch 50/50\n",
            "85/85 [==============================] - 10s 114ms/step - loss: 0.0012\n"
          ]
        },
        {
          "output_type": "execute_result",
          "data": {
            "text/plain": [
              "<keras.callbacks.History at 0x7f0ef3249c90>"
            ]
          },
          "metadata": {},
          "execution_count": 13
        }
      ]
    },
    {
      "cell_type": "code",
      "source": [
        "# Now to get the test set ready in a similar way as the training set.\n",
        "# The following has been done so forst 60 entires of test set have 60 previous values which is impossible to get unless we take the whole \n",
        "# 'High' attribute data for processing\n",
        "dataset_total = pd.concat((dataset[\"High\"][:'2016'],dataset[\"High\"]['2017':]),axis=0)\n",
        "inputs = dataset_total[len(dataset_total)-len(test_set) - 60:].values\n",
        "inputs = inputs.reshape(-1,1)\n",
        "inputs  = sc.transform(inputs)"
      ],
      "metadata": {
        "id": "-zh-GEwiscWQ"
      },
      "execution_count": null,
      "outputs": []
    },
    {
      "cell_type": "code",
      "source": [
        "# Preparing X_test and predicting the prices\n",
        "X_test = []\n",
        "for i in range(60,311):\n",
        "    X_test.append(inputs[i-60:i,0])\n",
        "X_test = np.array(X_test)\n",
        "X_test = np.reshape(X_test, (X_test.shape[0],X_test.shape[1],1))\n",
        "predicted_stock_price = regressor.predict(X_test)\n",
        "predicted_stock_price = sc.inverse_transform(predicted_stock_price)"
      ],
      "metadata": {
        "id": "oddbHy5ysg3R"
      },
      "execution_count": null,
      "outputs": []
    },
    {
      "cell_type": "code",
      "source": [
        "# Visualizing the results for LSTM\n",
        "plot_predictions(test_set,predicted_stock_price)"
      ],
      "metadata": {
        "colab": {
          "base_uri": "https://localhost:8080/",
          "height": 325
        },
        "id": "G8NoElIUsjjZ",
        "outputId": "9a925251-d300-4266-e37f-763ce0857e40"
      },
      "execution_count": null,
      "outputs": [
        {
          "output_type": "display_data",
          "data": {
            "image/png": "[encoded data removed]",
            "text/plain": [
              "<Figure size 432x288 with 1 Axes>"
            ]
          },
          "metadata": {}
        }
      ]
    },
    {
      "cell_type": "code",
      "source": [
        "# Evaluating our model\n",
        "return_rmse(test_set,predicted_stock_price)"
      ],
      "metadata": {
        "colab": {
          "base_uri": "https://localhost:8080/"
        },
        "id": "E__Y4_Haso_4",
        "outputId": "ddf5a2a8-3e2c-48a9-99f6-fc7df85dd796"
      },
      "execution_count": null,
      "outputs": [
        {
          "output_type": "stream",
          "name": "stdout",
          "text": [
            "The root mean squared error is 5.210811256018098.\n"
          ]
        }
      ]
    },
    {
      "cell_type": "code",
      "source": [
        ""
      ],
      "metadata": {
        "id": "Mgu3nUa3s0J4"
      },
      "execution_count": null,
      "outputs": []
    },
    {
      "cell_type": "markdown",
      "source": [
        "Gated Recurrent Units"
      ],
      "metadata": {
        "id": "xqMhVBBKs3vr"
      }
    },
    {
      "cell_type": "code",
      "source": [
        "# The GRU architecture\n",
        "regressorGRU = Sequential()\n",
        "# First GRU layer with Dropout regularisation\n",
        "regressorGRU.add(GRU(units=50, return_sequences=True, input_shape=(X_train.shape[1],1), activation='tanh'))\n",
        "regressorGRU.add(Dropout(0.2))\n",
        "# Second GRU layer\n",
        "regressorGRU.add(GRU(units=50, return_sequences=True, input_shape=(X_train.shape[1],1), activation='tanh'))\n",
        "regressorGRU.add(Dropout(0.2))\n",
        "# Third GRU layer\n",
        "regressorGRU.add(GRU(units=50, return_sequences=True, input_shape=(X_train.shape[1],1), activation='tanh'))\n",
        "regressorGRU.add(Dropout(0.2))\n",
        "# Fourth GRU layer\n",
        "regressorGRU.add(GRU(units=50, activation='tanh'))\n",
        "regressorGRU.add(Dropout(0.2))\n",
        "# The output layer\n",
        "regressorGRU.add(Dense(units=1))\n",
        "# Compiling the RNN\n",
        "regressorGRU.compile(optimizer=SGD(lr=0.01, decay=1e-7, momentum=0.9, nesterov=False),loss='mean_squared_error')\n",
        "# Fitting to the training set\n",
        "regressorGRU.fit(X_train,y_train,epochs=50,batch_size=150)"
      ],
      "metadata": {
        "colab": {
          "base_uri": "https://localhost:8080/"
        },
        "id": "VXecSnVss5rK",
        "outputId": "ed5b055d-35e5-44a5-90f8-5c18922399ef"
      },
      "execution_count": null,
      "outputs": [
        {
          "output_type": "stream",
          "name": "stderr",
          "text": [
            "/usr/local/lib/python3.7/dist-packages/keras/optimizer_v2/gradient_descent.py:102: UserWarning: The `lr` argument is deprecated, use `learning_rate` instead.\n",
            "  super(SGD, self).__init__(name, **kwargs)\n"
          ]
        },
        {
          "output_type": "stream",
          "name": "stdout",
          "text": [
            "Epoch 1/50\n",
            "19/19 [==============================] - 12s 229ms/step - loss: 0.0941\n",
            "Epoch 2/50\n",
            "19/19 [==============================] - 4s 214ms/step - loss: 0.0385\n",
            "Epoch 3/50\n",
            "19/19 [==============================] - 4s 210ms/step - loss: 0.0156\n",
            "Epoch 4/50\n",
            "19/19 [==============================] - 4s 218ms/step - loss: 0.0039\n",
            "Epoch 5/50\n",
            "19/19 [==============================] - 4s 211ms/step - loss: 0.0033\n",
            "Epoch 6/50\n",
            "19/19 [==============================] - 4s 209ms/step - loss: 0.0027\n",
            "Epoch 7/50\n",
            "19/19 [==============================] - 4s 214ms/step - loss: 0.0028\n",
            "Epoch 8/50\n",
            "19/19 [==============================] - 4s 212ms/step - loss: 0.0026\n",
            "Epoch 9/50\n",
            "19/19 [==============================] - 4s 210ms/step - loss: 0.0025\n",
            "Epoch 10/50\n",
            "19/19 [==============================] - 4s 212ms/step - loss: 0.0025\n",
            "Epoch 11/50\n",
            "19/19 [==============================] - 4s 213ms/step - loss: 0.0025\n",
            "Epoch 12/50\n",
            "19/19 [==============================] - 4s 213ms/step - loss: 0.0025\n",
            "Epoch 13/50\n",
            "19/19 [==============================] - 4s 219ms/step - loss: 0.0023\n",
            "Epoch 14/50\n",
            "19/19 [==============================] - 4s 210ms/step - loss: 0.0023\n",
            "Epoch 15/50\n",
            "19/19 [==============================] - 4s 214ms/step - loss: 0.0022\n",
            "Epoch 16/50\n",
            "19/19 [==============================] - 4s 211ms/step - loss: 0.0024\n",
            "Epoch 17/50\n",
            "19/19 [==============================] - 4s 216ms/step - loss: 0.0023\n",
            "Epoch 18/50\n",
            "19/19 [==============================] - 4s 217ms/step - loss: 0.0023\n",
            "Epoch 19/50\n",
            "19/19 [==============================] - 4s 211ms/step - loss: 0.0021\n",
            "Epoch 20/50\n",
            "19/19 [==============================] - 4s 213ms/step - loss: 0.0022\n",
            "Epoch 21/50\n",
            "19/19 [==============================] - 4s 218ms/step - loss: 0.0022\n",
            "Epoch 22/50\n",
            "19/19 [==============================] - 4s 214ms/step - loss: 0.0022\n",
            "Epoch 23/50\n",
            "19/19 [==============================] - 4s 210ms/step - loss: 0.0022\n",
            "Epoch 24/50\n",
            "19/19 [==============================] - 4s 215ms/step - loss: 0.0021\n",
            "Epoch 25/50\n",
            "19/19 [==============================] - 4s 212ms/step - loss: 0.0020\n",
            "Epoch 26/50\n",
            "19/19 [==============================] - 4s 212ms/step - loss: 0.0019\n",
            "Epoch 27/50\n",
            "19/19 [==============================] - 4s 212ms/step - loss: 0.0020\n",
            "Epoch 28/50\n",
            "19/19 [==============================] - 4s 211ms/step - loss: 0.0020\n",
            "Epoch 29/50\n",
            "19/19 [==============================] - 4s 210ms/step - loss: 0.0021\n",
            "Epoch 30/50\n",
            "19/19 [==============================] - 4s 220ms/step - loss: 0.0020\n",
            "Epoch 31/50\n",
            "19/19 [==============================] - 4s 215ms/step - loss: 0.0020\n",
            "Epoch 32/50\n",
            "19/19 [==============================] - 4s 213ms/step - loss: 0.0020\n",
            "Epoch 33/50\n",
            "19/19 [==============================] - 4s 208ms/step - loss: 0.0020\n",
            "Epoch 34/50\n",
            "19/19 [==============================] - 4s 208ms/step - loss: 0.0019\n",
            "Epoch 35/50\n",
            "19/19 [==============================] - 4s 212ms/step - loss: 0.0020\n",
            "Epoch 36/50\n",
            "19/19 [==============================] - 4s 210ms/step - loss: 0.0019\n",
            "Epoch 37/50\n",
            "19/19 [==============================] - 4s 215ms/step - loss: 0.0019\n",
            "Epoch 38/50\n",
            "19/19 [==============================] - 4s 210ms/step - loss: 0.0019\n",
            "Epoch 39/50\n",
            "19/19 [==============================] - 4s 214ms/step - loss: 0.0018\n",
            "Epoch 40/50\n",
            "19/19 [==============================] - 4s 209ms/step - loss: 0.0018\n",
            "Epoch 41/50\n",
            "19/19 [==============================] - 4s 216ms/step - loss: 0.0018\n",
            "Epoch 42/50\n",
            "19/19 [==============================] - 4s 209ms/step - loss: 0.0018\n",
            "Epoch 43/50\n",
            "19/19 [==============================] - 4s 218ms/step - loss: 0.0019\n",
            "Epoch 44/50\n",
            "19/19 [==============================] - 4s 212ms/step - loss: 0.0017\n",
            "Epoch 45/50\n",
            "19/19 [==============================] - 4s 208ms/step - loss: 0.0020\n",
            "Epoch 46/50\n",
            "19/19 [==============================] - 4s 208ms/step - loss: 0.0018\n",
            "Epoch 47/50\n",
            "19/19 [==============================] - 4s 210ms/step - loss: 0.0019\n",
            "Epoch 48/50\n",
            "19/19 [==============================] - 4s 213ms/step - loss: 0.0018\n",
            "Epoch 49/50\n",
            "19/19 [==============================] - 4s 209ms/step - loss: 0.0018\n",
            "Epoch 50/50\n",
            "19/19 [==============================] - 4s 211ms/step - loss: 0.0018\n"
          ]
        },
        {
          "output_type": "execute_result",
          "data": {
            "text/plain": [
              "<keras.callbacks.History at 0x7f0ef3242390>"
            ]
          },
          "metadata": {},
          "execution_count": 18
        }
      ]
    },
    {
      "cell_type": "code",
      "source": [
        "# Preparing X_test and predicting the prices\n",
        "X_test = []\n",
        "for i in range(60,311):\n",
        "    X_test.append(inputs[i-60:i,0])\n",
        "X_test = np.array(X_test)\n",
        "X_test = np.reshape(X_test, (X_test.shape[0],X_test.shape[1],1))\n",
        "GRU_predicted_stock_price = regressorGRU.predict(X_test)\n",
        "GRU_predicted_stock_price = sc.inverse_transform(GRU_predicted_stock_price)"
      ],
      "metadata": {
        "id": "77HUKcIkuAh2"
      },
      "execution_count": null,
      "outputs": []
    },
    {
      "cell_type": "code",
      "source": [
        "# Visualizing the results for GRU\n",
        "plot_predictions(test_set,GRU_predicted_stock_price)"
      ],
      "metadata": {
        "colab": {
          "base_uri": "https://localhost:8080/",
          "height": 325
        },
        "id": "RQ9bONfquGE4",
        "outputId": "38c02785-e79e-40ac-ca96-904e1956fe9f"
      },
      "execution_count": null,
      "outputs": [
        {
          "output_type": "display_data",
          "data": {
            "image/png": "[encoded data removed]",
            "text/plain": [
              "<Figure size 432x288 with 1 Axes>"
            ]
          },
          "metadata": {}
        }
      ]
    },
    {
      "cell_type": "code",
      "source": [
        "# Evaluating GRU\n",
        "return_rmse(test_set,GRU_predicted_stock_price)"
      ],
      "metadata": {
        "colab": {
          "base_uri": "https://localhost:8080/"
        },
        "id": "y6ieaIQ8uOFG",
        "outputId": "e1fc9807-7574-4acf-cfc1-f059db32a63f"
      },
      "execution_count": null,
      "outputs": [
        {
          "output_type": "stream",
          "name": "stdout",
          "text": [
            "The root mean squared error is 2.6361761397294328.\n"
          ]
        }
      ]
    },
    {
      "cell_type": "markdown",
      "source": [
        ""
      ],
      "metadata": {
        "id": "o91_6Fw5ubn-"
      }
    },
    {
      "cell_type": "code",
      "source": [
        ""
      ],
      "metadata": {
        "id": "anR-7ov2uf7u"
      },
      "execution_count": null,
      "outputs": []
    }
  ]
}